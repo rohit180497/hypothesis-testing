{
 "cells": [
  {
   "cell_type": "markdown",
   "id": "f7f3a16b-77bd-420c-a7e0-839969641c5a",
   "metadata": {},
   "source": [
    "\n",
    "<BR>\n",
    "<CENTER>\n",
    "<FONT SIZE = 4, COLOR=\"#2C32C3\">\n",
    "<BR><B>Northeastern University</B>\n",
    "<BR>\n",
    "ALY6010 Probability Theory & Intro Stats</B>\n",
    " <BR> US Regional Sales Data\n",
    "<BR> Module 3 - Practice R  \n",
    "<BR><font size=4, color=dark red> Date: 03.12.2024\n",
    "</FONT>\n",
    "</CENTER>\n"
   ]
  },
  {
   "cell_type": "markdown",
   "id": "4a7c147f-c0f6-4276-90a0-b6b9ee338551",
   "metadata": {},
   "source": [
    "**Data Source:** US Regional Sales Data\n",
    "\n",
    "**Data Link:** https://data.world/dataman-udit/us-regional-sales-data\n"
   ]
  },
  {
   "cell_type": "raw",
   "id": "aa73d1ea-48ed-48d1-b332-1dfccb4e1c89",
   "metadata": {},
   "source": [
    "#### Importing Importanat Libraries"
   ]
  },
  {
   "cell_type": "code",
   "execution_count": null,
   "id": "d9e5e370-78a1-45dc-860d-76de72e70ce4",
   "metadata": {},
   "outputs": [],
   "source": [
    "library(dplyr)\n",
    "library(ggplot2)\n",
    "library(janitor)\n",
    "library(tidyr)\n",
    "library(readxl)\n"
   ]
  },
  {
   "cell_type": "markdown",
   "id": "ee9af269-90f1-4a16-969b-81a9f676d0df",
   "metadata": {},
   "source": [
    "### Reading data"
   ]
  },
  {
   "cell_type": "code",
   "execution_count": 3,
   "id": "33ce48c2-8094-45c1-aaf7-64afd4613a21",
   "metadata": {},
   "outputs": [
    {
     "data": {
      "text/html": [
       "<style>\n",
       ".list-inline {list-style: none; margin:0; padding: 0}\n",
       ".list-inline>li {display: inline-block}\n",
       ".list-inline>li:not(:last-child)::after {content: \"\\00b7\"; padding: 0 .5ex}\n",
       "</style>\n",
       "<ol class=list-inline><li>7991</li><li>16</li></ol>\n"
      ],
      "text/latex": [
       "\\begin{enumerate*}\n",
       "\\item 7991\n",
       "\\item 16\n",
       "\\end{enumerate*}\n"
      ],
      "text/markdown": [
       "1. 7991\n",
       "2. 16\n",
       "\n",
       "\n"
      ],
      "text/plain": [
       "[1] 7991   16"
      ]
     },
     "metadata": {},
     "output_type": "display_data"
    }
   ],
   "source": [
    "df <- read_excel(\"US_Regional_Sales_Data.xlsx\")\n",
    "dim(df)"
   ]
  },
  {
   "cell_type": "code",
   "execution_count": 4,
   "id": "6ad5d7a0-4847-4940-95be-3e86817f5854",
   "metadata": {},
   "outputs": [
    {
     "data": {
      "text/html": [
       "<table class=\"dataframe\">\n",
       "<caption>A tibble: 6 × 16</caption>\n",
       "<thead>\n",
       "\t<tr><th scope=col>OrderNumber</th><th scope=col>Sales Channel</th><th scope=col>WarehouseCode</th><th scope=col>ProcuredDate</th><th scope=col>OrderDate</th><th scope=col>ShipDate</th><th scope=col>DeliveryDate</th><th scope=col>CurrencyCode</th><th scope=col>_SalesTeamID</th><th scope=col>_CustomerID</th><th scope=col>_StoreID</th><th scope=col>_ProductID</th><th scope=col>Order Quantity</th><th scope=col>Discount Applied</th><th scope=col>Unit Price</th><th scope=col>Unit Cost</th></tr>\n",
       "\t<tr><th scope=col>&lt;chr&gt;</th><th scope=col>&lt;chr&gt;</th><th scope=col>&lt;chr&gt;</th><th scope=col>&lt;dttm&gt;</th><th scope=col>&lt;dttm&gt;</th><th scope=col>&lt;dttm&gt;</th><th scope=col>&lt;dttm&gt;</th><th scope=col>&lt;chr&gt;</th><th scope=col>&lt;dbl&gt;</th><th scope=col>&lt;dbl&gt;</th><th scope=col>&lt;dbl&gt;</th><th scope=col>&lt;dbl&gt;</th><th scope=col>&lt;dbl&gt;</th><th scope=col>&lt;dbl&gt;</th><th scope=col>&lt;dbl&gt;</th><th scope=col>&lt;dbl&gt;</th></tr>\n",
       "</thead>\n",
       "<tbody>\n",
       "\t<tr><td>SO - 000101</td><td>In-Store   </td><td>WARE-UHY1004</td><td>2017-12-31</td><td>2018-05-31</td><td>2018-06-14</td><td>2018-06-19</td><td>USD</td><td> 6</td><td>15</td><td>259</td><td>12</td><td>5</td><td>0.075</td><td>1963.1</td><td>1001.181</td></tr>\n",
       "\t<tr><td>SO - 000102</td><td>Online     </td><td>WARE-NMK1003</td><td>2017-12-31</td><td>2018-05-31</td><td>2018-06-22</td><td>2018-07-02</td><td>USD</td><td>14</td><td>20</td><td>196</td><td>27</td><td>3</td><td>0.075</td><td>3939.6</td><td>3348.660</td></tr>\n",
       "\t<tr><td>SO - 000103</td><td>Distributor</td><td>WARE-UHY1004</td><td>2017-12-31</td><td>2018-05-31</td><td>2018-06-21</td><td>2018-07-01</td><td>USD</td><td>21</td><td>16</td><td>213</td><td>16</td><td>1</td><td>0.050</td><td>1775.5</td><td> 781.220</td></tr>\n",
       "\t<tr><td>SO - 000104</td><td>Wholesale  </td><td>WARE-NMK1003</td><td>2017-12-31</td><td>2018-05-31</td><td>2018-06-02</td><td>2018-06-07</td><td>USD</td><td>28</td><td>48</td><td>107</td><td>23</td><td>8</td><td>0.075</td><td>2324.9</td><td>1464.687</td></tr>\n",
       "\t<tr><td>SO - 000105</td><td>Distributor</td><td>WARE-NMK1003</td><td>2018-04-10</td><td>2018-05-31</td><td>2018-06-16</td><td>2018-06-26</td><td>USD</td><td>22</td><td>49</td><td>111</td><td>26</td><td>8</td><td>0.100</td><td>1822.4</td><td>1476.144</td></tr>\n",
       "\t<tr><td>SO - 000106</td><td>Online     </td><td>WARE-PUJ1005</td><td>2017-12-31</td><td>2018-05-31</td><td>2018-06-08</td><td>2018-06-13</td><td>USD</td><td>12</td><td>21</td><td>285</td><td> 1</td><td>5</td><td>0.050</td><td>1038.5</td><td> 446.555</td></tr>\n",
       "</tbody>\n",
       "</table>\n"
      ],
      "text/latex": [
       "A tibble: 6 × 16\n",
       "\\begin{tabular}{llllllllllllllll}\n",
       " OrderNumber & Sales Channel & WarehouseCode & ProcuredDate & OrderDate & ShipDate & DeliveryDate & CurrencyCode & \\_SalesTeamID & \\_CustomerID & \\_StoreID & \\_ProductID & Order Quantity & Discount Applied & Unit Price & Unit Cost\\\\\n",
       " <chr> & <chr> & <chr> & <dttm> & <dttm> & <dttm> & <dttm> & <chr> & <dbl> & <dbl> & <dbl> & <dbl> & <dbl> & <dbl> & <dbl> & <dbl>\\\\\n",
       "\\hline\n",
       "\t SO - 000101 & In-Store    & WARE-UHY1004 & 2017-12-31 & 2018-05-31 & 2018-06-14 & 2018-06-19 & USD &  6 & 15 & 259 & 12 & 5 & 0.075 & 1963.1 & 1001.181\\\\\n",
       "\t SO - 000102 & Online      & WARE-NMK1003 & 2017-12-31 & 2018-05-31 & 2018-06-22 & 2018-07-02 & USD & 14 & 20 & 196 & 27 & 3 & 0.075 & 3939.6 & 3348.660\\\\\n",
       "\t SO - 000103 & Distributor & WARE-UHY1004 & 2017-12-31 & 2018-05-31 & 2018-06-21 & 2018-07-01 & USD & 21 & 16 & 213 & 16 & 1 & 0.050 & 1775.5 &  781.220\\\\\n",
       "\t SO - 000104 & Wholesale   & WARE-NMK1003 & 2017-12-31 & 2018-05-31 & 2018-06-02 & 2018-06-07 & USD & 28 & 48 & 107 & 23 & 8 & 0.075 & 2324.9 & 1464.687\\\\\n",
       "\t SO - 000105 & Distributor & WARE-NMK1003 & 2018-04-10 & 2018-05-31 & 2018-06-16 & 2018-06-26 & USD & 22 & 49 & 111 & 26 & 8 & 0.100 & 1822.4 & 1476.144\\\\\n",
       "\t SO - 000106 & Online      & WARE-PUJ1005 & 2017-12-31 & 2018-05-31 & 2018-06-08 & 2018-06-13 & USD & 12 & 21 & 285 &  1 & 5 & 0.050 & 1038.5 &  446.555\\\\\n",
       "\\end{tabular}\n"
      ],
      "text/markdown": [
       "\n",
       "A tibble: 6 × 16\n",
       "\n",
       "| OrderNumber &lt;chr&gt; | Sales Channel &lt;chr&gt; | WarehouseCode &lt;chr&gt; | ProcuredDate &lt;dttm&gt; | OrderDate &lt;dttm&gt; | ShipDate &lt;dttm&gt; | DeliveryDate &lt;dttm&gt; | CurrencyCode &lt;chr&gt; | _SalesTeamID &lt;dbl&gt; | _CustomerID &lt;dbl&gt; | _StoreID &lt;dbl&gt; | _ProductID &lt;dbl&gt; | Order Quantity &lt;dbl&gt; | Discount Applied &lt;dbl&gt; | Unit Price &lt;dbl&gt; | Unit Cost &lt;dbl&gt; |\n",
       "|---|---|---|---|---|---|---|---|---|---|---|---|---|---|---|---|\n",
       "| SO - 000101 | In-Store    | WARE-UHY1004 | 2017-12-31 | 2018-05-31 | 2018-06-14 | 2018-06-19 | USD |  6 | 15 | 259 | 12 | 5 | 0.075 | 1963.1 | 1001.181 |\n",
       "| SO - 000102 | Online      | WARE-NMK1003 | 2017-12-31 | 2018-05-31 | 2018-06-22 | 2018-07-02 | USD | 14 | 20 | 196 | 27 | 3 | 0.075 | 3939.6 | 3348.660 |\n",
       "| SO - 000103 | Distributor | WARE-UHY1004 | 2017-12-31 | 2018-05-31 | 2018-06-21 | 2018-07-01 | USD | 21 | 16 | 213 | 16 | 1 | 0.050 | 1775.5 |  781.220 |\n",
       "| SO - 000104 | Wholesale   | WARE-NMK1003 | 2017-12-31 | 2018-05-31 | 2018-06-02 | 2018-06-07 | USD | 28 | 48 | 107 | 23 | 8 | 0.075 | 2324.9 | 1464.687 |\n",
       "| SO - 000105 | Distributor | WARE-NMK1003 | 2018-04-10 | 2018-05-31 | 2018-06-16 | 2018-06-26 | USD | 22 | 49 | 111 | 26 | 8 | 0.100 | 1822.4 | 1476.144 |\n",
       "| SO - 000106 | Online      | WARE-PUJ1005 | 2017-12-31 | 2018-05-31 | 2018-06-08 | 2018-06-13 | USD | 12 | 21 | 285 |  1 | 5 | 0.050 | 1038.5 |  446.555 |\n",
       "\n"
      ],
      "text/plain": [
       "  OrderNumber Sales Channel WarehouseCode ProcuredDate OrderDate  ShipDate  \n",
       "1 SO - 000101 In-Store      WARE-UHY1004  2017-12-31   2018-05-31 2018-06-14\n",
       "2 SO - 000102 Online        WARE-NMK1003  2017-12-31   2018-05-31 2018-06-22\n",
       "3 SO - 000103 Distributor   WARE-UHY1004  2017-12-31   2018-05-31 2018-06-21\n",
       "4 SO - 000104 Wholesale     WARE-NMK1003  2017-12-31   2018-05-31 2018-06-02\n",
       "5 SO - 000105 Distributor   WARE-NMK1003  2018-04-10   2018-05-31 2018-06-16\n",
       "6 SO - 000106 Online        WARE-PUJ1005  2017-12-31   2018-05-31 2018-06-08\n",
       "  DeliveryDate CurrencyCode _SalesTeamID _CustomerID _StoreID _ProductID\n",
       "1 2018-06-19   USD           6           15          259      12        \n",
       "2 2018-07-02   USD          14           20          196      27        \n",
       "3 2018-07-01   USD          21           16          213      16        \n",
       "4 2018-06-07   USD          28           48          107      23        \n",
       "5 2018-06-26   USD          22           49          111      26        \n",
       "6 2018-06-13   USD          12           21          285       1        \n",
       "  Order Quantity Discount Applied Unit Price Unit Cost\n",
       "1 5              0.075            1963.1     1001.181 \n",
       "2 3              0.075            3939.6     3348.660 \n",
       "3 1              0.050            1775.5      781.220 \n",
       "4 8              0.075            2324.9     1464.687 \n",
       "5 8              0.100            1822.4     1476.144 \n",
       "6 5              0.050            1038.5      446.555 "
      ]
     },
     "metadata": {},
     "output_type": "display_data"
    }
   ],
   "source": [
    "head(df)"
   ]
  },
  {
   "cell_type": "code",
   "execution_count": 5,
   "id": "583c9e56-2a2c-4a80-b9eb-bef78203a50a",
   "metadata": {},
   "outputs": [
    {
     "data": {
      "text/html": [
       "<style>\n",
       ".dl-inline {width: auto; margin:0; padding: 0}\n",
       ".dl-inline>dt, .dl-inline>dd {float: none; width: auto; display: inline-block}\n",
       ".dl-inline>dt::after {content: \":\\0020\"; padding-right: .5ex}\n",
       ".dl-inline>dt:not(:first-of-type) {padding-left: .5ex}\n",
       "</style><dl class=dl-inline><dt>OrderNumber</dt><dd>0</dd><dt>Sales Channel</dt><dd>0</dd><dt>WarehouseCode</dt><dd>0</dd><dt>ProcuredDate</dt><dd>0</dd><dt>OrderDate</dt><dd>0</dd><dt>ShipDate</dt><dd>0</dd><dt>DeliveryDate</dt><dd>0</dd><dt>CurrencyCode</dt><dd>0</dd><dt>_SalesTeamID</dt><dd>0</dd><dt>_CustomerID</dt><dd>0</dd><dt>_StoreID</dt><dd>0</dd><dt>_ProductID</dt><dd>0</dd><dt>Order Quantity</dt><dd>0</dd><dt>Discount Applied</dt><dd>0</dd><dt>Unit Price</dt><dd>0</dd><dt>Unit Cost</dt><dd>0</dd></dl>\n"
      ],
      "text/latex": [
       "\\begin{description*}\n",
       "\\item[OrderNumber] 0\n",
       "\\item[Sales Channel] 0\n",
       "\\item[WarehouseCode] 0\n",
       "\\item[ProcuredDate] 0\n",
       "\\item[OrderDate] 0\n",
       "\\item[ShipDate] 0\n",
       "\\item[DeliveryDate] 0\n",
       "\\item[CurrencyCode] 0\n",
       "\\item[\\textbackslash{}\\_SalesTeamID] 0\n",
       "\\item[\\textbackslash{}\\_CustomerID] 0\n",
       "\\item[\\textbackslash{}\\_StoreID] 0\n",
       "\\item[\\textbackslash{}\\_ProductID] 0\n",
       "\\item[Order Quantity] 0\n",
       "\\item[Discount Applied] 0\n",
       "\\item[Unit Price] 0\n",
       "\\item[Unit Cost] 0\n",
       "\\end{description*}\n"
      ],
      "text/markdown": [
       "OrderNumber\n",
       ":   0Sales Channel\n",
       ":   0WarehouseCode\n",
       ":   0ProcuredDate\n",
       ":   0OrderDate\n",
       ":   0ShipDate\n",
       ":   0DeliveryDate\n",
       ":   0CurrencyCode\n",
       ":   0_SalesTeamID\n",
       ":   0_CustomerID\n",
       ":   0_StoreID\n",
       ":   0_ProductID\n",
       ":   0Order Quantity\n",
       ":   0Discount Applied\n",
       ":   0Unit Price\n",
       ":   0Unit Cost\n",
       ":   0\n",
       "\n"
      ],
      "text/plain": [
       "     OrderNumber    Sales Channel    WarehouseCode     ProcuredDate \n",
       "               0                0                0                0 \n",
       "       OrderDate         ShipDate     DeliveryDate     CurrencyCode \n",
       "               0                0                0                0 \n",
       "    _SalesTeamID      _CustomerID         _StoreID       _ProductID \n",
       "               0                0                0                0 \n",
       "  Order Quantity Discount Applied       Unit Price        Unit Cost \n",
       "               0                0                0                0 "
      ]
     },
     "metadata": {},
     "output_type": "display_data"
    }
   ],
   "source": [
    "# Checking if data contains NA values\n",
    "colSums(is.na(df))"
   ]
  },
  {
   "cell_type": "code",
   "execution_count": 6,
   "id": "ed496568-dbcb-4578-8202-e367a5c9f41f",
   "metadata": {},
   "outputs": [
    {
     "data": {
      "text/html": [
       "<table class=\"dataframe\">\n",
       "<caption>A tibble: 0 × 16</caption>\n",
       "<thead>\n",
       "\t<tr><th scope=col>OrderNumber</th><th scope=col>Sales Channel</th><th scope=col>WarehouseCode</th><th scope=col>ProcuredDate</th><th scope=col>OrderDate</th><th scope=col>ShipDate</th><th scope=col>DeliveryDate</th><th scope=col>CurrencyCode</th><th scope=col>_SalesTeamID</th><th scope=col>_CustomerID</th><th scope=col>_StoreID</th><th scope=col>_ProductID</th><th scope=col>Order Quantity</th><th scope=col>Discount Applied</th><th scope=col>Unit Price</th><th scope=col>Unit Cost</th></tr>\n",
       "\t<tr><th scope=col>&lt;chr&gt;</th><th scope=col>&lt;chr&gt;</th><th scope=col>&lt;chr&gt;</th><th scope=col>&lt;dttm&gt;</th><th scope=col>&lt;dttm&gt;</th><th scope=col>&lt;dttm&gt;</th><th scope=col>&lt;dttm&gt;</th><th scope=col>&lt;chr&gt;</th><th scope=col>&lt;dbl&gt;</th><th scope=col>&lt;dbl&gt;</th><th scope=col>&lt;dbl&gt;</th><th scope=col>&lt;dbl&gt;</th><th scope=col>&lt;dbl&gt;</th><th scope=col>&lt;dbl&gt;</th><th scope=col>&lt;dbl&gt;</th><th scope=col>&lt;dbl&gt;</th></tr>\n",
       "</thead>\n",
       "<tbody>\n",
       "</tbody>\n",
       "</table>\n"
      ],
      "text/latex": [
       "A tibble: 0 × 16\n",
       "\\begin{tabular}{llllllllllllllll}\n",
       " OrderNumber & Sales Channel & WarehouseCode & ProcuredDate & OrderDate & ShipDate & DeliveryDate & CurrencyCode & \\_SalesTeamID & \\_CustomerID & \\_StoreID & \\_ProductID & Order Quantity & Discount Applied & Unit Price & Unit Cost\\\\\n",
       " <chr> & <chr> & <chr> & <dttm> & <dttm> & <dttm> & <dttm> & <chr> & <dbl> & <dbl> & <dbl> & <dbl> & <dbl> & <dbl> & <dbl> & <dbl>\\\\\n",
       "\\hline\n",
       "\\end{tabular}\n"
      ],
      "text/markdown": [
       "\n",
       "A tibble: 0 × 16\n",
       "\n",
       "| OrderNumber &lt;chr&gt; | Sales Channel &lt;chr&gt; | WarehouseCode &lt;chr&gt; | ProcuredDate &lt;dttm&gt; | OrderDate &lt;dttm&gt; | ShipDate &lt;dttm&gt; | DeliveryDate &lt;dttm&gt; | CurrencyCode &lt;chr&gt; | _SalesTeamID &lt;dbl&gt; | _CustomerID &lt;dbl&gt; | _StoreID &lt;dbl&gt; | _ProductID &lt;dbl&gt; | Order Quantity &lt;dbl&gt; | Discount Applied &lt;dbl&gt; | Unit Price &lt;dbl&gt; | Unit Cost &lt;dbl&gt; |\n",
       "|---|---|---|---|---|---|---|---|---|---|---|---|---|---|---|---|\n",
       "\n"
      ],
      "text/plain": [
       "     OrderNumber Sales Channel WarehouseCode ProcuredDate OrderDate ShipDate\n",
       "     DeliveryDate CurrencyCode _SalesTeamID _CustomerID _StoreID _ProductID\n",
       "     Order Quantity Discount Applied Unit Price Unit Cost"
      ]
     },
     "metadata": {},
     "output_type": "display_data"
    }
   ],
   "source": [
    "# Checking if data contains duplicates values\n",
    "df[duplicated(df), ] "
   ]
  },
  {
   "cell_type": "code",
   "execution_count": 7,
   "id": "d2e6ef5d-c2be-4235-88cd-03d6f7e2c1b3",
   "metadata": {},
   "outputs": [
    {
     "data": {
      "text/html": [
       "<style>\n",
       ".list-inline {list-style: none; margin:0; padding: 0}\n",
       ".list-inline>li {display: inline-block}\n",
       ".list-inline>li:not(:last-child)::after {content: \"\\00b7\"; padding: 0 .5ex}\n",
       "</style>\n",
       "<ol class=list-inline><li>'order_number'</li><li>'sales_channel'</li><li>'warehouse_code'</li><li>'procured_date'</li><li>'order_date'</li><li>'ship_date'</li><li>'delivery_date'</li><li>'currency_code'</li><li>'sales_team_id'</li><li>'customer_id'</li><li>'store_id'</li><li>'product_id'</li><li>'order_quantity'</li><li>'discount_applied'</li><li>'unit_price'</li><li>'unit_cost'</li></ol>\n"
      ],
      "text/latex": [
       "\\begin{enumerate*}\n",
       "\\item 'order\\_number'\n",
       "\\item 'sales\\_channel'\n",
       "\\item 'warehouse\\_code'\n",
       "\\item 'procured\\_date'\n",
       "\\item 'order\\_date'\n",
       "\\item 'ship\\_date'\n",
       "\\item 'delivery\\_date'\n",
       "\\item 'currency\\_code'\n",
       "\\item 'sales\\_team\\_id'\n",
       "\\item 'customer\\_id'\n",
       "\\item 'store\\_id'\n",
       "\\item 'product\\_id'\n",
       "\\item 'order\\_quantity'\n",
       "\\item 'discount\\_applied'\n",
       "\\item 'unit\\_price'\n",
       "\\item 'unit\\_cost'\n",
       "\\end{enumerate*}\n"
      ],
      "text/markdown": [
       "1. 'order_number'\n",
       "2. 'sales_channel'\n",
       "3. 'warehouse_code'\n",
       "4. 'procured_date'\n",
       "5. 'order_date'\n",
       "6. 'ship_date'\n",
       "7. 'delivery_date'\n",
       "8. 'currency_code'\n",
       "9. 'sales_team_id'\n",
       "10. 'customer_id'\n",
       "11. 'store_id'\n",
       "12. 'product_id'\n",
       "13. 'order_quantity'\n",
       "14. 'discount_applied'\n",
       "15. 'unit_price'\n",
       "16. 'unit_cost'\n",
       "\n",
       "\n"
      ],
      "text/plain": [
       " [1] \"order_number\"     \"sales_channel\"    \"warehouse_code\"   \"procured_date\"   \n",
       " [5] \"order_date\"       \"ship_date\"        \"delivery_date\"    \"currency_code\"   \n",
       " [9] \"sales_team_id\"    \"customer_id\"      \"store_id\"         \"product_id\"      \n",
       "[13] \"order_quantity\"   \"discount_applied\" \"unit_price\"       \"unit_cost\"       "
      ]
     },
     "metadata": {},
     "output_type": "display_data"
    }
   ],
   "source": [
    "# Cleaning column names using janitor package clean_names\n",
    "df <- clean_names(df)\n",
    "names(df)"
   ]
  },
  {
   "cell_type": "code",
   "execution_count": 8,
   "id": "90b4cbee-5e5b-4e2b-b6ff-af25be49a506",
   "metadata": {},
   "outputs": [
    {
     "name": "stdout",
     "output_type": "stream",
     "text": [
      "tibble [7,991 x 16] (S3: tbl_df/tbl/data.frame)\n",
      " $ order_number    : chr [1:7991] \"SO - 000101\" \"SO - 000102\" \"SO - 000103\" \"SO - 000104\" ...\n",
      " $ sales_channel   : chr [1:7991] \"In-Store\" \"Online\" \"Distributor\" \"Wholesale\" ...\n",
      " $ warehouse_code  : chr [1:7991] \"WARE-UHY1004\" \"WARE-NMK1003\" \"WARE-UHY1004\" \"WARE-NMK1003\" ...\n",
      " $ procured_date   : POSIXct[1:7991], format: \"2017-12-31\" \"2017-12-31\" ...\n",
      " $ order_date      : POSIXct[1:7991], format: \"2018-05-31\" \"2018-05-31\" ...\n",
      " $ ship_date       : POSIXct[1:7991], format: \"2018-06-14\" \"2018-06-22\" ...\n",
      " $ delivery_date   : POSIXct[1:7991], format: \"2018-06-19\" \"2018-07-02\" ...\n",
      " $ currency_code   : chr [1:7991] \"USD\" \"USD\" \"USD\" \"USD\" ...\n",
      " $ sales_team_id   : num [1:7991] 6 14 21 28 22 12 10 6 4 10 ...\n",
      " $ customer_id     : num [1:7991] 15 20 16 48 49 21 14 9 9 33 ...\n",
      " $ store_id        : num [1:7991] 259 196 213 107 111 285 6 280 299 261 ...\n",
      " $ product_id      : num [1:7991] 12 27 16 23 26 1 5 46 47 13 ...\n",
      " $ order_quantity  : num [1:7991] 5 3 1 8 8 5 4 5 4 8 ...\n",
      " $ discount_applied: num [1:7991] 0.075 0.075 0.05 0.075 0.1 0.05 0.15 0.05 0.3 0.05 ...\n",
      " $ unit_price      : num [1:7991] 1963 3940 1776 2325 1822 ...\n",
      " $ unit_cost       : num [1:7991] 1001 3349 781 1465 1476 ...\n"
     ]
    },
    {
     "data": {
      "text/html": [
       "<style>\n",
       ".list-inline {list-style: none; margin:0; padding: 0}\n",
       ".list-inline>li {display: inline-block}\n",
       ".list-inline>li:not(:last-child)::after {content: \"\\00b7\"; padding: 0 .5ex}\n",
       "</style>\n",
       "<ol class=list-inline><li>'In-Store'</li><li>'Online'</li><li>'Distributor'</li><li>'Wholesale'</li></ol>\n"
      ],
      "text/latex": [
       "\\begin{enumerate*}\n",
       "\\item 'In-Store'\n",
       "\\item 'Online'\n",
       "\\item 'Distributor'\n",
       "\\item 'Wholesale'\n",
       "\\end{enumerate*}\n"
      ],
      "text/markdown": [
       "1. 'In-Store'\n",
       "2. 'Online'\n",
       "3. 'Distributor'\n",
       "4. 'Wholesale'\n",
       "\n",
       "\n"
      ],
      "text/plain": [
       "[1] \"In-Store\"    \"Online\"      \"Distributor\" \"Wholesale\"  "
      ]
     },
     "metadata": {},
     "output_type": "display_data"
    }
   ],
   "source": [
    "# checking structure of dataframne\n",
    "str(df)\n",
    "unique(df$sales_channel)"
   ]
  },
  {
   "cell_type": "code",
   "execution_count": 9,
   "id": "0d01f184-d959-4347-aa25-62c123108366",
   "metadata": {},
   "outputs": [
    {
     "data": {
      "image/png": "[encoded data removed]",
      "text/plain": [
       "Plot with title \"Normal Q-Q Plot\""
      ]
     },
     "metadata": {
      "image/png": {
       "height": 420,
       "width": 420
      }
     },
     "output_type": "display_data"
    }
   ],
   "source": [
    "# checking if order_quantity follows normal distribution\n",
    "qqnorm(df$order_quantity)\n",
    "qqline(df$order_quantity)"
   ]
  },
  {
   "cell_type": "code",
   "execution_count": 10,
   "id": "079780d3-c96a-416c-9224-04920691f3cd",
   "metadata": {},
   "outputs": [],
   "source": [
    "# taking subset of dataframe to perform hypothesis testing\n",
    "df_store_online <- df %>% filter(sales_channel %in% c(\"In-Store\", \"Online\"))\n",
    "df_dist_whole <- df %>% filter(sales_channel %in% c(\"Distributor\", \"Wholesale\"))"
   ]
  },
  {
   "cell_type": "markdown",
   "id": "018ea1d8-5365-4354-9bc8-360ecc9be780",
   "metadata": {},
   "source": [
    "### Two sample t-test:\n",
    "\n",
    "The two-sample t-test (also known as the independent samples t-test) is a method used to test whether the unknown population means of two groups are equal or not\n",
    "\n",
    "### One sample t-test:\n",
    "\n",
    "The one sample t-test is a statistical procedure used to determine whether a sample of observations could have been generated by a process with a specific mean."
   ]
  },
  {
   "cell_type": "markdown",
   "id": "a00a4a11-d3e5-41fa-bd08-3905bec02b4d",
   "metadata": {},
   "source": [
    "### Hypothesis Testing"
   ]
  },
  {
   "cell_type": "markdown",
   "id": "17dd3619-d087-4021-a64c-88d72aa71158",
   "metadata": {
    "jp-MarkdownHeadingCollapsed": true
   },
   "source": [
    "#### One sample t-test\n",
    "\n",
    "*Significance level= 0.05*"
   ]
  },
  {
   "cell_type": "markdown",
   "id": "cdd5bd5c-2ce7-4a88-82e1-02516d79d531",
   "metadata": {},
   "source": [
    "#### 1. Whether the population mean of discount applied is statistically significant?"
   ]
  },
  {
   "cell_type": "markdown",
   "id": "c903c615-39da-4c8f-9046-147b45992236",
   "metadata": {},
   "source": [
    "**Null Hypothesis (H0)**: The population mean of the discount applied is equal to a 0.05\n",
    "H0: μ = μ0\n",
    "\n",
    "**Alternative Hypothesis (H1)**: The population mean of the discount applied is not equal to the 0.05\n",
    "H1: μ ≠ μ0"
   ]
  },
  {
   "cell_type": "code",
   "execution_count": 31,
   "id": "f33e34a1-320b-41bd-a325-3cda402e0cdc",
   "metadata": {},
   "outputs": [
    {
     "name": "stdout",
     "output_type": "stream",
     "text": [
      "\n",
      "\tOne Sample t-test\n",
      "\n",
      "data:  df$discount_applied\n",
      "t = 67.271, df = 7990, p-value < 2.2e-16\n",
      "alternative hypothesis: true mean is not equal to 0.05\n",
      "95 percent confidence interval:\n",
      " 0.1125179 0.1162708\n",
      "sample estimates:\n",
      "mean of x \n",
      "0.1143943 \n",
      "\n"
     ]
    }
   ],
   "source": [
    "discount <- 0.05\n",
    "\n",
    "t_test1 <- t.test(df$discount_applied, mu = discount)\n",
    "\n",
    "print(t_test1)"
   ]
  },
  {
   "cell_type": "markdown",
   "id": "0265e5ad-f74e-408f-8626-298bcebb0b7f",
   "metadata": {},
   "source": [
    "The p-value is extremely low, indicating strong evidence against the null hypothesis.\n",
    "Therefore, we reject the null hypothesis and conclude that the true mean of the discount applied is not equal to 0.05.\n",
    "Based on the sample data, the mean discount applied is significantly different from 0.05.\n"
   ]
  },
  {
   "cell_type": "markdown",
   "id": "32934cb7-bcf2-42ec-8bab-f5b7a192aac2",
   "metadata": {},
   "source": [
    "#### 2. Whether the mean of true cost is statistically significant?"
   ]
  },
  {
   "cell_type": "markdown",
   "id": "eadc51d5-d34c-4c64-9ea2-8674146d9dea",
   "metadata": {},
   "source": [
    "**Null Hypothesis (H0)**: The true mean of the unit cost is equal to 1500.\n",
    "\n",
    "**Alternative Hypothesis (H1)**: The true mean of the unit cost is not equal to 1500."
   ]
  },
  {
   "cell_type": "code",
   "execution_count": 33,
   "id": "f25e793f-0906-4024-a98d-88e53f8ad3da",
   "metadata": {},
   "outputs": [
    {
     "name": "stdout",
     "output_type": "stream",
     "text": [
      "\n",
      "\tOne Sample t-test\n",
      "\n",
      "data:  df$unit_cost\n",
      "t = -5.4716, df = 7990, p-value = 4.596e-08\n",
      "alternative hypothesis: true mean is not equal to 1500\n",
      "95 percent confidence interval:\n",
      " 1407.517 1456.305\n",
      "sample estimates:\n",
      "mean of x \n",
      " 1431.911 \n",
      "\n"
     ]
    }
   ],
   "source": [
    "t_test2 <- t.test(df$unit_cost, mu = 1500)\n",
    "\n",
    "print(t_test2)"
   ]
  },
  {
   "cell_type": "markdown",
   "id": "1684c2f2-2ebf-488a-a404-4b54c1f1e619",
   "metadata": {},
   "source": [
    "Based on the p-value being less than the significance level, we reject the null hypothesis and conclude that there is sufficient evidence to suggest that the true mean unit cost is significantly different from 1500.\n"
   ]
  },
  {
   "cell_type": "markdown",
   "id": "1e4d835f-7284-4ce2-987a-d9a2b7714c0d",
   "metadata": {},
   "source": [
    "#### 3. Whether the mean of order quantity is statistically significant?"
   ]
  },
  {
   "cell_type": "markdown",
   "id": "bc0f211d-da4e-4165-a2e5-e5781f7f7388",
   "metadata": {},
   "source": [
    "**Null Hypothesis (H0)**: The true mean of the order quantity is equal to 3.\n",
    "\n",
    "**Alternative Hypothesis (H1)**: The true mean of the order quantity is not equal to 3."
   ]
  },
  {
   "cell_type": "code",
   "execution_count": 36,
   "id": "989649db-16dd-44e0-bf66-2b708e451827",
   "metadata": {},
   "outputs": [
    {
     "name": "stdout",
     "output_type": "stream",
     "text": [
      "\n",
      "\tOne Sample t-test\n",
      "\n",
      "data:  df$order_quantity\n",
      "t = 58.96, df = 7990, p-value < 2.2e-16\n",
      "alternative hypothesis: true mean is not equal to 3\n",
      "95 percent confidence interval:\n",
      " 4.474628 4.576054\n",
      "sample estimates:\n",
      "mean of x \n",
      " 4.525341 \n",
      "\n"
     ]
    }
   ],
   "source": [
    "t_test3 <- t.test(df$order_quantity, mu = 3)\n",
    "\n",
    "print(t_test3)"
   ]
  },
  {
   "cell_type": "markdown",
   "id": "195c8c74-25a9-4ccd-a53f-8fe549e61f89",
   "metadata": {},
   "source": [
    "The 95% confidence interval for the true mean order quantity is estimated to be between 4.47 and 4.58. The sample mean order quantity was calculated to be approximately 4.53, suggesting that, on average, the quantity of orders differs significantly from 3.\n",
    " With a p-value much smaller than the conventional significance level of 0.05, there is strong evidence to reject the null hypothesis"
   ]
  },
  {
   "cell_type": "markdown",
   "id": "2821c38b-4ca3-4c73-a561-b87844e5d747",
   "metadata": {},
   "source": [
    "### Welch Two Sample t-test"
   ]
  },
  {
   "cell_type": "markdown",
   "id": "8078a7ec-d743-4de1-9563-68a505196e58",
   "metadata": {},
   "source": [
    "#### 1. Whether the order quantity is statistically significant across sales channels In-store ans On-line?"
   ]
  },
  {
   "cell_type": "markdown",
   "id": "2e017ca8-9114-4204-b72f-b8f4a17ff5a6",
   "metadata": {},
   "source": [
    "\n",
    "**Null Hypothesis**: The mean order quantity is the same across all sales channels.\n",
    "\n",
    "**Alternate Hypothesis**: The mean order quantity varies significantly between at least two sales channels. \n",
    "In other words, there is a significant difference in the average order quantity between two of the sales channels.\n"
   ]
  },
  {
   "cell_type": "code",
   "execution_count": 30,
   "id": "b8f53f14-d338-4088-a3b4-2c568f8d8187",
   "metadata": {},
   "outputs": [
    {
     "name": "stdout",
     "output_type": "stream",
     "text": [
      "\n",
      "\tWelch Two Sample t-test\n",
      "\n",
      "data:  order_quantity by sales_channel\n",
      "t = 0.28474, df = 5157.4, p-value = 0.7759\n",
      "alternative hypothesis: true difference in means between group In-Store and group Online is not equal to 0\n",
      "95 percent confidence interval:\n",
      " -0.1036386  0.1388600\n",
      "sample estimates:\n",
      "mean in group In-Store   mean in group Online \n",
      "              4.511219               4.493608 \n",
      "\n"
     ]
    }
   ],
   "source": [
    "result1 <- t.test(order_quantity ~ sales_channel, data = df_store_online)\n",
    "print(result1)"
   ]
  },
  {
   "cell_type": "markdown",
   "id": "dc5b221e-c4ee-49a8-b9ae-1f7f6348178c",
   "metadata": {},
   "source": [
    "Overall, based on the p-value and confidence interval, there's no strong evidence to reject the null hypothesis, suggesting that there is no significant difference in the mean order quantity between the \"In-Store\" and \"Online\" sales channels.\n"
   ]
  },
  {
   "cell_type": "markdown",
   "id": "1d9e4a2d-0666-4aec-9d06-31cba71ca0f1",
   "metadata": {},
   "source": [
    "#### 2. Whether mean in group Distributor  and  mean in group Wholesale statistically significant?"
   ]
  },
  {
   "cell_type": "markdown",
   "id": "1757a89f-a0b5-4fc1-a6bf-946c35abde6d",
   "metadata": {},
   "source": [
    "**Null Hypothesis**: The mean order quantity is the same across both sales channels.\n",
    "\n",
    "**Alternate Hypothesis**: The mean order quantity varies significantly between two sales channels. \n",
    "In other words, there is a significant difference in the average order quantity between two of the sales channels.\n"
   ]
  },
  {
   "cell_type": "code",
   "execution_count": 37,
   "id": "0373c60a-70b3-4286-8631-f289f8434278",
   "metadata": {},
   "outputs": [
    {
     "name": "stdout",
     "output_type": "stream",
     "text": [
      "\n",
      "\tWelch Two Sample t-test\n",
      "\n",
      "data:  order_quantity by sales_channel\n",
      "t = -0.18838, df = 1903.9, p-value = 0.8506\n",
      "alternative hypothesis: true difference in means between group Distributor and group Wholesale is not equal to 0\n",
      "95 percent confidence interval:\n",
      " -0.2156895  0.1778859\n",
      "sample estimates:\n",
      "mean in group Distributor   mean in group Wholesale \n",
      "                 4.572364                  4.591265 \n",
      "\n"
     ]
    }
   ],
   "source": [
    "result2 <- t.test(order_quantity ~ sales_channel, data = df_dist_whole)\n",
    "print(result2)\n"
   ]
  },
  {
   "cell_type": "markdown",
   "id": "ee78ddc0-5166-493a-b430-3c2e66b4e7a1",
   "metadata": {},
   "source": [
    "Since the p-value (0.8506) is greater than the significance level, we fail to reject the null hypothesis. This suggests that there is not enough evidence to conclude that the mean order quantity differs significantly between the Distributor and Wholesale sales channels. Additionally, the confidence interval includes 0, further supporting the lack of a significant difference in means between the two groups.\n",
    "\n",
    "\n",
    "\n"
   ]
  },
  {
   "cell_type": "markdown",
   "id": "9306d89b-4275-42cb-8164-af8e1453706c",
   "metadata": {},
   "source": [
    "\n",
    "\n",
    "\n",
    "References:\n",
    "1. https://towardsdatascience.com/hypothesis-testing-in-real-life-47f42420b1f7\n",
    "2. https://www.jmp.com/en_us/statistics-knowledge-portal/t-test/one-sample-t-test.html"
   ]
  },
  {
   "cell_type": "code",
   "execution_count": null,
   "id": "9c0e0cff-d12a-4ac8-aea2-28c4ba54c8c1",
   "metadata": {},
   "outputs": [],
   "source": []
  },
  {
   "cell_type": "code",
   "execution_count": null,
   "id": "f54cf03a-afe8-4313-8eeb-b6217d2439b1",
   "metadata": {},
   "outputs": [],
   "source": []
  }
 ],
 "metadata": {
  "kernelspec": {
   "display_name": "R",
   "language": "R",
   "name": "ir"
  },
  "language_info": {
   "codemirror_mode": "r",
   "file_extension": ".r",
   "mimetype": "text/x-r-source",
   "name": "R",
   "pygments_lexer": "r",
   "version": "4.1.3"
  }
 },
 "nbformat": 4,
 "nbformat_minor": 5
}
